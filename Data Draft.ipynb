{
 "cells": [
  {
   "cell_type": "markdown",
   "metadata": {},
   "source": [
    "# Creating The To-Do List Of Data Scraping"
   ]
  },
  {
   "cell_type": "markdown",
   "metadata": {},
   "source": [
    "1. Find top 5 cities in Indiana by 'proper' ages (likely 13-45) within population counts.\n",
    "2. Review cities' data for signs of Entertainment Districts or otherwise concentrated commodity commerce areas.\n",
    "3. Use areas of high commercial flow to center clusters for comparison within that region of the city.\n",
    "4. Utilize venue categories to differentiate between venues that are all-ages (i.e. coffee shops, delis, youth programs, etc) and those that are 21+ (i.e. bars, clubs, 'adult'-entertainment venues).\n",
    "5. Analyze venues' proximity to developed neighborhoods to cross-reference growth potential of developing communities. \n",
    "6. Pull 'Top 3' venues for each category in each of the top 5 cities, creating the 'master list' of the top 30 venues in Indiana. \n",
    "7. Cross-reference the 'master list' in order to establish an internal hierarchy of which venues have the highest attendance in different areas. \n",
    "8. Create a pattern of venues that would allow 30 days of continual performances at varying venues without repeating any of them, and maintaining as little overlap in their demographic areas as possible. "
   ]
  },
  {
   "cell_type": "markdown",
   "metadata": {},
   "source": []
  }
 ],
 "metadata": {
  "kernelspec": {
   "display_name": "Python 3",
   "language": "python",
   "name": "python3"
  },
  "language_info": {
   "codemirror_mode": {
    "name": "ipython",
    "version": 3
   },
   "file_extension": ".py",
   "mimetype": "text/x-python",
   "name": "python",
   "nbconvert_exporter": "python",
   "pygments_lexer": "ipython3",
   "version": "3.6.7"
  }
 },
 "nbformat": 4,
 "nbformat_minor": 4
}
