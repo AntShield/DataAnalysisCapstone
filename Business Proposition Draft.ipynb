{
 "cells": [
  {
   "cell_type": "markdown",
   "metadata": {},
   "source": [
    "# Finding The Scene"
   ]
  },
  {
   "cell_type": "markdown",
   "metadata": {},
   "source": [
    "For my business problem, I have decided to look into clustering data from large cities throughout my home state of Indiana to find the areas with the highest rated music venues. From here I would like to reference their venue categories and ratings to find the top 5 all-ages venues, and the top 5 21+ venues available for musicians to play within each area. The intended end-goal is to create a listing showing the most profitable venues to play, while ensuring the audience is age-appropriate for material, and maintaining a large enough scope to avoid repeated usage of the same venue in order to maximize revenue for bands and venues alike.  "
   ]
  },
  {
   "cell_type": "code",
   "execution_count": null,
   "metadata": {},
   "outputs": [],
   "source": []
  }
 ],
 "metadata": {
  "kernelspec": {
   "display_name": "Python 3",
   "language": "python",
   "name": "python3"
  },
  "language_info": {
   "codemirror_mode": {
    "name": "ipython",
    "version": 3
   },
   "file_extension": ".py",
   "mimetype": "text/x-python",
   "name": "python",
   "nbconvert_exporter": "python",
   "pygments_lexer": "ipython3",
   "version": "3.6.7"
  }
 },
 "nbformat": 4,
 "nbformat_minor": 4
}
