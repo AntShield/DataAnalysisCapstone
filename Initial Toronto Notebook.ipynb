{
 "cells": [
  {
   "cell_type": "code",
   "execution_count": 69,
   "metadata": {
    "collapsed": true,
    "jupyter": {
     "outputs_hidden": true
    }
   },
   "outputs": [],
   "source": [
    "#!pip install beautifulsoup4"
   ]
  },
  {
   "cell_type": "code",
   "execution_count": 23,
   "metadata": {
    "collapsed": true,
    "jupyter": {
     "outputs_hidden": true
    }
   },
   "outputs": [],
   "source": [
    "from bs4 import BeautifulSoup"
   ]
  },
  {
   "cell_type": "code",
   "execution_count": 70,
   "metadata": {
    "collapsed": true,
    "jupyter": {
     "outputs_hidden": true
    }
   },
   "outputs": [],
   "source": [
    "#!pip install lxml"
   ]
  },
  {
   "cell_type": "code",
   "execution_count": 71,
   "metadata": {
    "collapsed": true,
    "jupyter": {
     "outputs_hidden": true
    }
   },
   "outputs": [],
   "source": [
    "#!pip install requests"
   ]
  },
  {
   "cell_type": "code",
   "execution_count": 26,
   "metadata": {
    "collapsed": true,
    "jupyter": {
     "outputs_hidden": true
    }
   },
   "outputs": [],
   "source": [
    "import requests\n",
    "import pandas as pd"
   ]
  },
  {
   "cell_type": "markdown",
   "metadata": {},
   "source": [
    "Scraping the Data From Wiki"
   ]
  },
  {
   "cell_type": "code",
   "execution_count": 27,
   "metadata": {
    "collapsed": true,
    "jupyter": {
     "outputs_hidden": true
    }
   },
   "outputs": [],
   "source": [
    "url='https://en.wikipedia.org/wiki/List_of_postal_codes_of_Canada:_M'\n",
    "source= requests.get(url).text\n",
    "soup= BeautifulSoup(source,'lxml')"
   ]
  },
  {
   "cell_type": "code",
   "execution_count": 28,
   "metadata": {
    "collapsed": true,
    "jupyter": {
     "outputs_hidden": true
    }
   },
   "outputs": [],
   "source": [
    "#print(soup.prettify())"
   ]
  },
  {
   "cell_type": "code",
   "execution_count": 29,
   "metadata": {
    "collapsed": true,
    "jupyter": {
     "outputs_hidden": true
    }
   },
   "outputs": [],
   "source": [
    "table = soup.find('table')\n",
    "#print(table.prettify())"
   ]
  },
  {
   "cell_type": "code",
   "execution_count": 30,
   "metadata": {
    "collapsed": true,
    "jupyter": {
     "outputs_hidden": true
    }
   },
   "outputs": [],
   "source": [
    "tableframe = pd.read_html(source)\n",
    "#print(tableframe)"
   ]
  },
  {
   "cell_type": "code",
   "execution_count": 31,
   "metadata": {
    "collapsed": true,
    "jupyter": {
     "outputs_hidden": true
    }
   },
   "outputs": [],
   "source": [
    "df = pd.DataFrame(tableframe[0])\n",
    "df.columns=['Postcode','Borough','Neighbourhood']\n",
    "df\n",
    "df1=df.drop(0)"
   ]
  },
  {
   "cell_type": "code",
   "execution_count": 32,
   "metadata": {
    "collapsed": false,
    "jupyter": {
     "outputs_hidden": false
    }
   },
   "outputs": [
    {
     "data": {
      "text/html": [
       "<div>\n",
       "<style scoped>\n",
       "    .dataframe tbody tr th:only-of-type {\n",
       "        vertical-align: middle;\n",
       "    }\n",
       "\n",
       "    .dataframe tbody tr th {\n",
       "        vertical-align: top;\n",
       "    }\n",
       "\n",
       "    .dataframe thead th {\n",
       "        text-align: right;\n",
       "    }\n",
       "</style>\n",
       "<table border=\"1\" class=\"dataframe\">\n",
       "  <thead>\n",
       "    <tr style=\"text-align: right;\">\n",
       "      <th></th>\n",
       "      <th>Postcode</th>\n",
       "      <th>Borough</th>\n",
       "      <th>Neighbourhood</th>\n",
       "    </tr>\n",
       "  </thead>\n",
       "  <tbody>\n",
       "    <tr>\n",
       "      <th>1</th>\n",
       "      <td>M2A</td>\n",
       "      <td>Not assigned</td>\n",
       "      <td>Not assigned</td>\n",
       "    </tr>\n",
       "    <tr>\n",
       "      <th>2</th>\n",
       "      <td>M3A</td>\n",
       "      <td>North York</td>\n",
       "      <td>Parkwoods</td>\n",
       "    </tr>\n",
       "    <tr>\n",
       "      <th>3</th>\n",
       "      <td>M4A</td>\n",
       "      <td>North York</td>\n",
       "      <td>Victoria Village</td>\n",
       "    </tr>\n",
       "    <tr>\n",
       "      <th>4</th>\n",
       "      <td>M5A</td>\n",
       "      <td>Downtown Toronto</td>\n",
       "      <td>Harbourfront</td>\n",
       "    </tr>\n",
       "    <tr>\n",
       "      <th>5</th>\n",
       "      <td>M5A</td>\n",
       "      <td>Downtown Toronto</td>\n",
       "      <td>Regent Park</td>\n",
       "    </tr>\n",
       "  </tbody>\n",
       "</table>\n",
       "</div>"
      ],
      "text/plain": [
       "  Postcode           Borough     Neighbourhood\n",
       "1      M2A      Not assigned      Not assigned\n",
       "2      M3A        North York         Parkwoods\n",
       "3      M4A        North York  Victoria Village\n",
       "4      M5A  Downtown Toronto      Harbourfront\n",
       "5      M5A  Downtown Toronto       Regent Park"
      ]
     },
     "execution_count": 32,
     "metadata": {},
     "output_type": "execute_result"
    }
   ],
   "source": [
    "df1.head()"
   ]
  },
  {
   "cell_type": "markdown",
   "metadata": {},
   "source": [
    "# Cleaning Up Wrangled Data, remove null boroughs, replace null neighborhoods with boroughs."
   ]
  },
  {
   "cell_type": "code",
   "execution_count": 33,
   "metadata": {
    "collapsed": false,
    "jupyter": {
     "outputs_hidden": false
    }
   },
   "outputs": [
    {
     "data": {
      "text/plain": [
       "(103, 3)"
      ]
     },
     "execution_count": 33,
     "metadata": {},
     "output_type": "execute_result"
    }
   ],
   "source": [
    "df1=df1[df1.Borough != 'Not assigned']\n",
    "\n",
    "df1.head(10)\n",
    "df_new=pd.DataFrame(df1)\n",
    "df2=df1.groupby(\"Postcode\").agg(lambda x:','.join(set(x)))\n",
    "df2=df2.reset_index()\n",
    "df2.shape"
   ]
  },
  {
   "cell_type": "code",
   "execution_count": 34,
   "metadata": {
    "collapsed": false,
    "jupyter": {
     "outputs_hidden": false
    }
   },
   "outputs": [
    {
     "data": {
      "text/plain": [
       "0"
      ]
     },
     "execution_count": 34,
     "metadata": {},
     "output_type": "execute_result"
    }
   ],
   "source": [
    "df2.loc[df2['Neighbourhood']==\"Not assigned\",'Neighbourhood']=df2.loc[df2['Neighbourhood']==\"Not assigned\",'Borough']\n",
    "\n",
    "len(df2[df2['Neighbourhood'] == 'Not assigned'])"
   ]
  },
  {
   "cell_type": "code",
   "execution_count": 35,
   "metadata": {
    "collapsed": false,
    "jupyter": {
     "outputs_hidden": false
    }
   },
   "outputs": [
    {
     "data": {
      "text/plain": [
       "(103, 3)"
      ]
     },
     "execution_count": 35,
     "metadata": {},
     "output_type": "execute_result"
    }
   ],
   "source": [
    "df2.shape"
   ]
  },
  {
   "cell_type": "markdown",
   "metadata": {},
   "source": [
    "## I have experienced so much difficulty with getting GeoCoder to work that I resorted to using the prepared CSV file"
   ]
  },
  {
   "cell_type": "markdown",
   "metadata": {},
   "source": [
    "### So far my only insights are that there are an asburd number of missing values on the Wiki Page. "
   ]
  },
  {
   "cell_type": "code",
   "execution_count": 68,
   "metadata": {
    "collapsed": true,
    "jupyter": {
     "outputs_hidden": true
    }
   },
   "outputs": [],
   "source": [
    "#!wget -O /resources/data/GeoCode.csv http://cocl.us/Geospatial_data"
   ]
  },
  {
   "cell_type": "code",
   "execution_count": 37,
   "metadata": {
    "collapsed": false,
    "jupyter": {
     "outputs_hidden": false
    }
   },
   "outputs": [
    {
     "data": {
      "text/html": [
       "<div>\n",
       "<style scoped>\n",
       "    .dataframe tbody tr th:only-of-type {\n",
       "        vertical-align: middle;\n",
       "    }\n",
       "\n",
       "    .dataframe tbody tr th {\n",
       "        vertical-align: top;\n",
       "    }\n",
       "\n",
       "    .dataframe thead th {\n",
       "        text-align: right;\n",
       "    }\n",
       "</style>\n",
       "<table border=\"1\" class=\"dataframe\">\n",
       "  <thead>\n",
       "    <tr style=\"text-align: right;\">\n",
       "      <th></th>\n",
       "      <th>Postal Code</th>\n",
       "      <th>Latitude</th>\n",
       "      <th>Longitude</th>\n",
       "    </tr>\n",
       "  </thead>\n",
       "  <tbody>\n",
       "    <tr>\n",
       "      <th>0</th>\n",
       "      <td>M1B</td>\n",
       "      <td>43.806686</td>\n",
       "      <td>-79.194353</td>\n",
       "    </tr>\n",
       "    <tr>\n",
       "      <th>1</th>\n",
       "      <td>M1C</td>\n",
       "      <td>43.784535</td>\n",
       "      <td>-79.160497</td>\n",
       "    </tr>\n",
       "    <tr>\n",
       "      <th>2</th>\n",
       "      <td>M1E</td>\n",
       "      <td>43.763573</td>\n",
       "      <td>-79.188711</td>\n",
       "    </tr>\n",
       "    <tr>\n",
       "      <th>3</th>\n",
       "      <td>M1G</td>\n",
       "      <td>43.770992</td>\n",
       "      <td>-79.216917</td>\n",
       "    </tr>\n",
       "    <tr>\n",
       "      <th>4</th>\n",
       "      <td>M1H</td>\n",
       "      <td>43.773136</td>\n",
       "      <td>-79.239476</td>\n",
       "    </tr>\n",
       "  </tbody>\n",
       "</table>\n",
       "</div>"
      ],
      "text/plain": [
       "  Postal Code   Latitude  Longitude\n",
       "0         M1B  43.806686 -79.194353\n",
       "1         M1C  43.784535 -79.160497\n",
       "2         M1E  43.763573 -79.188711\n",
       "3         M1G  43.770992 -79.216917\n",
       "4         M1H  43.773136 -79.239476"
      ]
     },
     "execution_count": 37,
     "metadata": {},
     "output_type": "execute_result"
    }
   ],
   "source": [
    "geodf = pd.read_csv(\"GeoCode.csv\")\n",
    "geodf.head()"
   ]
  },
  {
   "cell_type": "code",
   "execution_count": 38,
   "metadata": {
    "collapsed": true,
    "jupyter": {
     "outputs_hidden": true
    }
   },
   "outputs": [],
   "source": [
    "df3 = df2.set_index('Postcode').join(geodf.set_index('Postal Code'))\n",
    "#print(df3)"
   ]
  },
  {
   "cell_type": "code",
   "execution_count": 39,
   "metadata": {
    "collapsed": false,
    "jupyter": {
     "outputs_hidden": false
    }
   },
   "outputs": [
    {
     "data": {
      "text/plain": [
       "(103, 4)"
      ]
     },
     "execution_count": 39,
     "metadata": {},
     "output_type": "execute_result"
    }
   ],
   "source": [
    "df3.shape"
   ]
  },
  {
   "cell_type": "markdown",
   "metadata": {},
   "source": [
    "### Still no new insights, but on to the mapping and exploration!"
   ]
  },
  {
   "cell_type": "code",
   "execution_count": 40,
   "metadata": {
    "collapsed": false,
    "jupyter": {
     "outputs_hidden": false
    }
   },
   "outputs": [
    {
     "data": {
      "text/html": [
       "<div>\n",
       "<style scoped>\n",
       "    .dataframe tbody tr th:only-of-type {\n",
       "        vertical-align: middle;\n",
       "    }\n",
       "\n",
       "    .dataframe tbody tr th {\n",
       "        vertical-align: top;\n",
       "    }\n",
       "\n",
       "    .dataframe thead th {\n",
       "        text-align: right;\n",
       "    }\n",
       "</style>\n",
       "<table border=\"1\" class=\"dataframe\">\n",
       "  <thead>\n",
       "    <tr style=\"text-align: right;\">\n",
       "      <th></th>\n",
       "      <th>Borough</th>\n",
       "      <th>Neighbourhood</th>\n",
       "      <th>Latitude</th>\n",
       "      <th>Longitude</th>\n",
       "    </tr>\n",
       "    <tr>\n",
       "      <th>Postcode</th>\n",
       "      <th></th>\n",
       "      <th></th>\n",
       "      <th></th>\n",
       "      <th></th>\n",
       "    </tr>\n",
       "  </thead>\n",
       "  <tbody>\n",
       "    <tr>\n",
       "      <th>M4W</th>\n",
       "      <td>Downtown Toronto</td>\n",
       "      <td>Rosedale</td>\n",
       "      <td>43.679563</td>\n",
       "      <td>-79.377529</td>\n",
       "    </tr>\n",
       "    <tr>\n",
       "      <th>M4X</th>\n",
       "      <td>Downtown Toronto</td>\n",
       "      <td>St. James Town,Cabbagetown</td>\n",
       "      <td>43.667967</td>\n",
       "      <td>-79.367675</td>\n",
       "    </tr>\n",
       "    <tr>\n",
       "      <th>M4Y</th>\n",
       "      <td>Downtown Toronto</td>\n",
       "      <td>Church and Wellesley</td>\n",
       "      <td>43.665860</td>\n",
       "      <td>-79.383160</td>\n",
       "    </tr>\n",
       "    <tr>\n",
       "      <th>M5A</th>\n",
       "      <td>Downtown Toronto</td>\n",
       "      <td>Harbourfront,Regent Park</td>\n",
       "      <td>43.654260</td>\n",
       "      <td>-79.360636</td>\n",
       "    </tr>\n",
       "    <tr>\n",
       "      <th>M5B</th>\n",
       "      <td>Downtown Toronto</td>\n",
       "      <td>Ryerson,Garden District</td>\n",
       "      <td>43.657162</td>\n",
       "      <td>-79.378937</td>\n",
       "    </tr>\n",
       "    <tr>\n",
       "      <th>M5C</th>\n",
       "      <td>Downtown Toronto</td>\n",
       "      <td>St. James Town</td>\n",
       "      <td>43.651494</td>\n",
       "      <td>-79.375418</td>\n",
       "    </tr>\n",
       "    <tr>\n",
       "      <th>M5E</th>\n",
       "      <td>Downtown Toronto</td>\n",
       "      <td>Berczy Park</td>\n",
       "      <td>43.644771</td>\n",
       "      <td>-79.373306</td>\n",
       "    </tr>\n",
       "    <tr>\n",
       "      <th>M5G</th>\n",
       "      <td>Downtown Toronto</td>\n",
       "      <td>Central Bay Street</td>\n",
       "      <td>43.657952</td>\n",
       "      <td>-79.387383</td>\n",
       "    </tr>\n",
       "    <tr>\n",
       "      <th>M5H</th>\n",
       "      <td>Downtown Toronto</td>\n",
       "      <td>Adelaide,Richmond,King</td>\n",
       "      <td>43.650571</td>\n",
       "      <td>-79.384568</td>\n",
       "    </tr>\n",
       "    <tr>\n",
       "      <th>M5J</th>\n",
       "      <td>Downtown Toronto</td>\n",
       "      <td>Harbourfront East,Toronto Islands,Union Station</td>\n",
       "      <td>43.640816</td>\n",
       "      <td>-79.381752</td>\n",
       "    </tr>\n",
       "    <tr>\n",
       "      <th>M5K</th>\n",
       "      <td>Downtown Toronto</td>\n",
       "      <td>Design Exchange,Toronto Dominion Centre</td>\n",
       "      <td>43.647177</td>\n",
       "      <td>-79.381576</td>\n",
       "    </tr>\n",
       "    <tr>\n",
       "      <th>M5L</th>\n",
       "      <td>Downtown Toronto</td>\n",
       "      <td>Commerce Court,Victoria Hotel</td>\n",
       "      <td>43.648198</td>\n",
       "      <td>-79.379817</td>\n",
       "    </tr>\n",
       "    <tr>\n",
       "      <th>M5S</th>\n",
       "      <td>Downtown Toronto</td>\n",
       "      <td>University of Toronto,Harbord</td>\n",
       "      <td>43.662696</td>\n",
       "      <td>-79.400049</td>\n",
       "    </tr>\n",
       "    <tr>\n",
       "      <th>M5T</th>\n",
       "      <td>Downtown Toronto</td>\n",
       "      <td>Kensington Market,Grange Park,Chinatown</td>\n",
       "      <td>43.653206</td>\n",
       "      <td>-79.400049</td>\n",
       "    </tr>\n",
       "    <tr>\n",
       "      <th>M5V</th>\n",
       "      <td>Downtown Toronto</td>\n",
       "      <td>South Niagara,Bathurst Quay,King and Spadina,R...</td>\n",
       "      <td>43.628947</td>\n",
       "      <td>-79.394420</td>\n",
       "    </tr>\n",
       "    <tr>\n",
       "      <th>M5W</th>\n",
       "      <td>Downtown Toronto</td>\n",
       "      <td>Stn A PO Boxes 25 The Esplanade</td>\n",
       "      <td>43.646435</td>\n",
       "      <td>-79.374846</td>\n",
       "    </tr>\n",
       "    <tr>\n",
       "      <th>M5X</th>\n",
       "      <td>Downtown Toronto</td>\n",
       "      <td>Underground city,First Canadian Place</td>\n",
       "      <td>43.648429</td>\n",
       "      <td>-79.382280</td>\n",
       "    </tr>\n",
       "    <tr>\n",
       "      <th>M6G</th>\n",
       "      <td>Downtown Toronto</td>\n",
       "      <td>Christie</td>\n",
       "      <td>43.669542</td>\n",
       "      <td>-79.422564</td>\n",
       "    </tr>\n",
       "  </tbody>\n",
       "</table>\n",
       "</div>"
      ],
      "text/plain": [
       "                   Borough                                      Neighbourhood  \\\n",
       "Postcode                                                                        \n",
       "M4W       Downtown Toronto                                           Rosedale   \n",
       "M4X       Downtown Toronto                         St. James Town,Cabbagetown   \n",
       "M4Y       Downtown Toronto                               Church and Wellesley   \n",
       "M5A       Downtown Toronto                           Harbourfront,Regent Park   \n",
       "M5B       Downtown Toronto                            Ryerson,Garden District   \n",
       "M5C       Downtown Toronto                                     St. James Town   \n",
       "M5E       Downtown Toronto                                        Berczy Park   \n",
       "M5G       Downtown Toronto                                 Central Bay Street   \n",
       "M5H       Downtown Toronto                             Adelaide,Richmond,King   \n",
       "M5J       Downtown Toronto    Harbourfront East,Toronto Islands,Union Station   \n",
       "M5K       Downtown Toronto            Design Exchange,Toronto Dominion Centre   \n",
       "M5L       Downtown Toronto                      Commerce Court,Victoria Hotel   \n",
       "M5S       Downtown Toronto                      University of Toronto,Harbord   \n",
       "M5T       Downtown Toronto            Kensington Market,Grange Park,Chinatown   \n",
       "M5V       Downtown Toronto  South Niagara,Bathurst Quay,King and Spadina,R...   \n",
       "M5W       Downtown Toronto                    Stn A PO Boxes 25 The Esplanade   \n",
       "M5X       Downtown Toronto              Underground city,First Canadian Place   \n",
       "M6G       Downtown Toronto                                           Christie   \n",
       "\n",
       "           Latitude  Longitude  \n",
       "Postcode                        \n",
       "M4W       43.679563 -79.377529  \n",
       "M4X       43.667967 -79.367675  \n",
       "M4Y       43.665860 -79.383160  \n",
       "M5A       43.654260 -79.360636  \n",
       "M5B       43.657162 -79.378937  \n",
       "M5C       43.651494 -79.375418  \n",
       "M5E       43.644771 -79.373306  \n",
       "M5G       43.657952 -79.387383  \n",
       "M5H       43.650571 -79.384568  \n",
       "M5J       43.640816 -79.381752  \n",
       "M5K       43.647177 -79.381576  \n",
       "M5L       43.648198 -79.379817  \n",
       "M5S       43.662696 -79.400049  \n",
       "M5T       43.653206 -79.400049  \n",
       "M5V       43.628947 -79.394420  \n",
       "M5W       43.646435 -79.374846  \n",
       "M5X       43.648429 -79.382280  \n",
       "M6G       43.669542 -79.422564  "
      ]
     },
     "execution_count": 40,
     "metadata": {},
     "output_type": "execute_result"
    }
   ],
   "source": [
    "df3.loc[df3['Borough'] == 'Downtown Toronto']"
   ]
  },
  {
   "cell_type": "code",
   "execution_count": 41,
   "metadata": {
    "collapsed": false,
    "jupyter": {
     "outputs_hidden": false
    }
   },
   "outputs": [
    {
     "data": {
      "text/html": [
       "<div>\n",
       "<style scoped>\n",
       "    .dataframe tbody tr th:only-of-type {\n",
       "        vertical-align: middle;\n",
       "    }\n",
       "\n",
       "    .dataframe tbody tr th {\n",
       "        vertical-align: top;\n",
       "    }\n",
       "\n",
       "    .dataframe thead th {\n",
       "        text-align: right;\n",
       "    }\n",
       "</style>\n",
       "<table border=\"1\" class=\"dataframe\">\n",
       "  <thead>\n",
       "    <tr style=\"text-align: right;\">\n",
       "      <th></th>\n",
       "      <th>Borough</th>\n",
       "      <th>Neighbourhood</th>\n",
       "      <th>Latitude</th>\n",
       "      <th>Longitude</th>\n",
       "    </tr>\n",
       "    <tr>\n",
       "      <th>Postcode</th>\n",
       "      <th></th>\n",
       "      <th></th>\n",
       "      <th></th>\n",
       "      <th></th>\n",
       "    </tr>\n",
       "  </thead>\n",
       "  <tbody>\n",
       "    <tr>\n",
       "      <th>M6H</th>\n",
       "      <td>West Toronto</td>\n",
       "      <td>Dovercourt Village,Dufferin</td>\n",
       "      <td>43.669005</td>\n",
       "      <td>-79.442259</td>\n",
       "    </tr>\n",
       "    <tr>\n",
       "      <th>M6J</th>\n",
       "      <td>West Toronto</td>\n",
       "      <td>Little Portugal,Trinity</td>\n",
       "      <td>43.647927</td>\n",
       "      <td>-79.419750</td>\n",
       "    </tr>\n",
       "    <tr>\n",
       "      <th>M6K</th>\n",
       "      <td>West Toronto</td>\n",
       "      <td>Exhibition Place,Parkdale Village,Brockton</td>\n",
       "      <td>43.636847</td>\n",
       "      <td>-79.428191</td>\n",
       "    </tr>\n",
       "    <tr>\n",
       "      <th>M6P</th>\n",
       "      <td>West Toronto</td>\n",
       "      <td>High Park,The Junction South</td>\n",
       "      <td>43.661608</td>\n",
       "      <td>-79.464763</td>\n",
       "    </tr>\n",
       "    <tr>\n",
       "      <th>M6R</th>\n",
       "      <td>West Toronto</td>\n",
       "      <td>Parkdale,Roncesvalles</td>\n",
       "      <td>43.648960</td>\n",
       "      <td>-79.456325</td>\n",
       "    </tr>\n",
       "    <tr>\n",
       "      <th>M6S</th>\n",
       "      <td>West Toronto</td>\n",
       "      <td>Swansea,Runnymede</td>\n",
       "      <td>43.651571</td>\n",
       "      <td>-79.484450</td>\n",
       "    </tr>\n",
       "  </tbody>\n",
       "</table>\n",
       "</div>"
      ],
      "text/plain": [
       "               Borough                               Neighbourhood   Latitude  \\\n",
       "Postcode                                                                        \n",
       "M6H       West Toronto                 Dovercourt Village,Dufferin  43.669005   \n",
       "M6J       West Toronto                     Little Portugal,Trinity  43.647927   \n",
       "M6K       West Toronto  Exhibition Place,Parkdale Village,Brockton  43.636847   \n",
       "M6P       West Toronto                High Park,The Junction South  43.661608   \n",
       "M6R       West Toronto                       Parkdale,Roncesvalles  43.648960   \n",
       "M6S       West Toronto                           Swansea,Runnymede  43.651571   \n",
       "\n",
       "          Longitude  \n",
       "Postcode             \n",
       "M6H      -79.442259  \n",
       "M6J      -79.419750  \n",
       "M6K      -79.428191  \n",
       "M6P      -79.464763  \n",
       "M6R      -79.456325  \n",
       "M6S      -79.484450  "
      ]
     },
     "execution_count": 41,
     "metadata": {},
     "output_type": "execute_result"
    }
   ],
   "source": [
    "df3.loc[df3['Borough'] == 'West Toronto']"
   ]
  },
  {
   "cell_type": "code",
   "execution_count": 42,
   "metadata": {
    "collapsed": false,
    "jupyter": {
     "outputs_hidden": false
    }
   },
   "outputs": [
    {
     "name": "stdout",
     "output_type": "stream",
     "text": [
      "WARNING conda.base.context:use_only_tar_bz2(632): Conda is constrained to only using the old .tar.bz2 file format because you have conda-build installed, and it is <3.18.3.  Update or remove conda-build to get smaller downloads and faster extractions.\n",
      "Collecting package metadata (repodata.json): done\n",
      "Solving environment: failed\n",
      "\n",
      "PackagesNotFoundError: The following packages are not available from current channels:\n",
      "\n",
      "  - anaconda/linux-64::grpcio==1.16.1=py36hf8bcb03_1 -> openssl[version='>=1.1.1,<1.1.2.0a0']\n",
      "\n",
      "Current channels:\n",
      "\n",
      "  - https://conda.anaconda.org/conda-forge/linux-64\n",
      "  - https://conda.anaconda.org/conda-forge/noarch\n",
      "  - https://repo.anaconda.com/pkgs/main/linux-64\n",
      "  - https://repo.anaconda.com/pkgs/main/noarch\n",
      "  - https://repo.anaconda.com/pkgs/r/linux-64\n",
      "  - https://repo.anaconda.com/pkgs/r/noarch\n",
      "\n",
      "To search for alternate channels that may provide the conda package you're\n",
      "looking for, navigate to\n",
      "\n",
      "    https://anaconda.org\n",
      "\n",
      "and use the search bar at the top of the page.\n",
      "\n",
      "\n"
     ]
    }
   ],
   "source": [
    "!conda install -c conda-forge geopy --yes\n",
    "from geopy.geocoders import Nominatim"
   ]
  },
  {
   "cell_type": "code",
   "execution_count": 43,
   "metadata": {
    "collapsed": false,
    "jupyter": {
     "outputs_hidden": false
    }
   },
   "outputs": [
    {
     "name": "stdout",
     "output_type": "stream",
     "text": [
      "The geograpical coordinate of Toronto are 43.653963, -79.387207.\n"
     ]
    }
   ],
   "source": [
    "address = 'Toronto, Canada'\n",
    "\n",
    "geolocator = Nominatim(user_agent='cn_explorer')\n",
    "location = geolocator.geocode(address)\n",
    "latitude = location.latitude\n",
    "longitude = location.longitude\n",
    "print('The geograpical coordinate of Toronto are {}, {}.'.format(latitude, longitude))"
   ]
  },
  {
   "cell_type": "markdown",
   "metadata": {},
   "source": [
    "Importing folium and mapping the local area of Toronto"
   ]
  },
  {
   "cell_type": "code",
   "execution_count": 44,
   "metadata": {
    "collapsed": true,
    "jupyter": {
     "outputs_hidden": true
    }
   },
   "outputs": [],
   "source": [
    "import folium"
   ]
  },
  {
   "cell_type": "code",
   "execution_count": 54,
   "metadata": {
    "collapsed": false,
    "jupyter": {
     "outputs_hidden": false
    }
   },
   "outputs": [
    {
     "data": {
      "text/html": [
       "<div style=\"width:100%;\"><div style=\"position:relative;width:100%;height:0;padding-bottom:60%;\"><iframe src=\"data:text/html;charset=utf-8;base64,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\" style=\"position:absolute;width:100%;height:100%;left:0;top:0;border:none !important;\" allowfullscreen webkitallowfullscreen mozallowfullscreen></iframe></div></div>"
      ],
      "text/plain": [
       "<folium.folium.Map at 0x7f66b3ef1b00>"
      ]
     },
     "execution_count": 54,
     "metadata": {},
     "output_type": "execute_result"
    }
   ],
   "source": [
    "map_toronto = folium.Map(location=[latitude, longitude], zoom_start=10)\n",
    "\n",
    "# add markers to map\n",
    "for lat, lng, borough, neighborhood in zip(toronto_data['Latitude'], toronto_data['Longitude'], toronto_data['Borough'], toronto_data['Neighbourhood']):\n",
    "        label = '{}, {}'.format(neighborhood, borough)\n",
    "        label = folium.Popup(label, parse_html=True)\n",
    "        folium.CircleMarker(\n",
    "            [lat, lng],\n",
    "            radius=5,\n",
    "            popup=label,\n",
    "            color='blue',\n",
    "            fill=True,\n",
    "            fill_color='#3186cc',\n",
    "            fill_opacity=0.7,\n",
    "            parse_html=False).add_to(map_toronto)  \n",
    "    \n",
    "map_toronto"
   ]
  },
  {
   "cell_type": "markdown",
   "metadata": {},
   "source": [
    "# Getting Into Foursquare For Exploratory Data"
   ]
  },
  {
   "cell_type": "code",
   "execution_count": 48,
   "metadata": {
    "collapsed": false,
    "jupyter": {
     "outputs_hidden": false
    }
   },
   "outputs": [
    {
     "data": {
      "text/html": [
       "<div>\n",
       "<style scoped>\n",
       "    .dataframe tbody tr th:only-of-type {\n",
       "        vertical-align: middle;\n",
       "    }\n",
       "\n",
       "    .dataframe tbody tr th {\n",
       "        vertical-align: top;\n",
       "    }\n",
       "\n",
       "    .dataframe thead th {\n",
       "        text-align: right;\n",
       "    }\n",
       "</style>\n",
       "<table border=\"1\" class=\"dataframe\">\n",
       "  <thead>\n",
       "    <tr style=\"text-align: right;\">\n",
       "      <th></th>\n",
       "      <th>Borough</th>\n",
       "      <th>Neighbourhood</th>\n",
       "      <th>Latitude</th>\n",
       "      <th>Longitude</th>\n",
       "    </tr>\n",
       "  </thead>\n",
       "  <tbody>\n",
       "    <tr>\n",
       "      <th>0</th>\n",
       "      <td>East Toronto</td>\n",
       "      <td>The Beaches</td>\n",
       "      <td>43.676357</td>\n",
       "      <td>-79.293031</td>\n",
       "    </tr>\n",
       "    <tr>\n",
       "      <th>1</th>\n",
       "      <td>East Toronto</td>\n",
       "      <td>Riverdale,The Danforth West</td>\n",
       "      <td>43.679557</td>\n",
       "      <td>-79.352188</td>\n",
       "    </tr>\n",
       "    <tr>\n",
       "      <th>2</th>\n",
       "      <td>East Toronto</td>\n",
       "      <td>The Beaches West,India Bazaar</td>\n",
       "      <td>43.668999</td>\n",
       "      <td>-79.315572</td>\n",
       "    </tr>\n",
       "    <tr>\n",
       "      <th>3</th>\n",
       "      <td>East Toronto</td>\n",
       "      <td>Studio District</td>\n",
       "      <td>43.659526</td>\n",
       "      <td>-79.340923</td>\n",
       "    </tr>\n",
       "    <tr>\n",
       "      <th>4</th>\n",
       "      <td>Central Toronto</td>\n",
       "      <td>Lawrence Park</td>\n",
       "      <td>43.728020</td>\n",
       "      <td>-79.388790</td>\n",
       "    </tr>\n",
       "  </tbody>\n",
       "</table>\n",
       "</div>"
      ],
      "text/plain": [
       "           Borough                  Neighbourhood   Latitude  Longitude\n",
       "0     East Toronto                    The Beaches  43.676357 -79.293031\n",
       "1     East Toronto    Riverdale,The Danforth West  43.679557 -79.352188\n",
       "2     East Toronto  The Beaches West,India Bazaar  43.668999 -79.315572\n",
       "3     East Toronto                Studio District  43.659526 -79.340923\n",
       "4  Central Toronto                  Lawrence Park  43.728020 -79.388790"
      ]
     },
     "execution_count": 48,
     "metadata": {},
     "output_type": "execute_result"
    }
   ],
   "source": [
    "toronto_data = df3[df3['Borough'].str.contains('Toronto')].reset_index(drop=True)\n",
    "toronto_data.head()"
   ]
  },
  {
   "cell_type": "code",
   "execution_count": 55,
   "metadata": {
    "collapsed": false,
    "jupyter": {
     "outputs_hidden": false
    }
   },
   "outputs": [
    {
     "name": "stdout",
     "output_type": "stream",
     "text": [
      "Your credentails:\n",
      "CLIENT_ID: YMOIZYBKFUKQXKLXSXTH1POHNCTHG3MLYLYRJB513MCL2545\n",
      "CLIENT_SECRET:CJEI03S3U5WVZ5VMU44TXGCYTYT011NGQA0P510BHZJZARAH\n"
     ]
    }
   ],
   "source": [
    "CLIENT_ID = 'YMOIZYBKFUKQXKLXSXTH1POHNCTHG3MLYLYRJB513MCL2545' # your Foursquare ID\n",
    "CLIENT_SECRET = 'CJEI03S3U5WVZ5VMU44TXGCYTYT011NGQA0P510BHZJZARAH' # your Foursquare Secret\n",
    "VERSION = '20180604'\n",
    "\n",
    "print('Your credentails:')\n",
    "print('CLIENT_ID: ' + CLIENT_ID)\n",
    "print('CLIENT_SECRET:' + CLIENT_SECRET)"
   ]
  },
  {
   "cell_type": "code",
   "execution_count": 56,
   "metadata": {
    "collapsed": false,
    "jupyter": {
     "outputs_hidden": false
    }
   },
   "outputs": [
    {
     "data": {
      "text/plain": [
       "'https://api.foursquare.com/v2/venues/explore?&client_id=YMOIZYBKFUKQXKLXSXTH1POHNCTHG3MLYLYRJB513MCL2545&client_secret=CJEI03S3U5WVZ5VMU44TXGCYTYT011NGQA0P510BHZJZARAH&v=20180604&ll=43.653963,-79.387207&radius=500&limit=100'"
      ]
     },
     "execution_count": 56,
     "metadata": {},
     "output_type": "execute_result"
    }
   ],
   "source": [
    "LIMIT = 100\n",
    "radius = 500\n",
    "url = 'https://api.foursquare.com/v2/venues/explore?&client_id={}&client_secret={}&v={}&ll={},{}&radius={}&limit={}'.format(\n",
    "    CLIENT_ID,\n",
    "    CLIENT_SECRET,\n",
    "    VERSION,\n",
    "    latitude,\n",
    "    longitude,\n",
    "    radius,\n",
    "    LIMIT)\n",
    "url"
   ]
  },
  {
   "cell_type": "code",
   "execution_count": 67,
   "metadata": {
    "collapsed": true,
    "jupyter": {
     "outputs_hidden": true
    }
   },
   "outputs": [],
   "source": [
    "results = requests.get(url).json()\n",
    "#results"
   ]
  },
  {
   "cell_type": "code",
   "execution_count": 58,
   "metadata": {
    "collapsed": true,
    "jupyter": {
     "outputs_hidden": true
    }
   },
   "outputs": [],
   "source": [
    "def get_category_type(row):\n",
    "    try:\n",
    "        categories_list = row['categories']\n",
    "    except:\n",
    "        categories_list = row['venue.categories']\n",
    "        \n",
    "    if len(categories_list) == 0:\n",
    "        return None\n",
    "    else:\n",
    "        return categories_list[0]['name']"
   ]
  },
  {
   "cell_type": "code",
   "execution_count": 63,
   "metadata": {
    "collapsed": true,
    "jupyter": {
     "outputs_hidden": true
    }
   },
   "outputs": [],
   "source": [
    "from pandas.io.json import json_normalize"
   ]
  },
  {
   "cell_type": "code",
   "execution_count": 64,
   "metadata": {
    "collapsed": false,
    "jupyter": {
     "outputs_hidden": false
    }
   },
   "outputs": [
    {
     "data": {
      "text/html": [
       "<div>\n",
       "<style scoped>\n",
       "    .dataframe tbody tr th:only-of-type {\n",
       "        vertical-align: middle;\n",
       "    }\n",
       "\n",
       "    .dataframe tbody tr th {\n",
       "        vertical-align: top;\n",
       "    }\n",
       "\n",
       "    .dataframe thead th {\n",
       "        text-align: right;\n",
       "    }\n",
       "</style>\n",
       "<table border=\"1\" class=\"dataframe\">\n",
       "  <thead>\n",
       "    <tr style=\"text-align: right;\">\n",
       "      <th></th>\n",
       "      <th>name</th>\n",
       "      <th>categories</th>\n",
       "      <th>lat</th>\n",
       "      <th>lng</th>\n",
       "    </tr>\n",
       "  </thead>\n",
       "  <tbody>\n",
       "    <tr>\n",
       "      <th>0</th>\n",
       "      <td>Downtown Toronto</td>\n",
       "      <td>Neighborhood</td>\n",
       "      <td>43.653232</td>\n",
       "      <td>-79.385296</td>\n",
       "    </tr>\n",
       "    <tr>\n",
       "      <th>1</th>\n",
       "      <td>Japango</td>\n",
       "      <td>Sushi Restaurant</td>\n",
       "      <td>43.655268</td>\n",
       "      <td>-79.385165</td>\n",
       "    </tr>\n",
       "    <tr>\n",
       "      <th>2</th>\n",
       "      <td>Cafe Plenty</td>\n",
       "      <td>Café</td>\n",
       "      <td>43.654571</td>\n",
       "      <td>-79.389450</td>\n",
       "    </tr>\n",
       "    <tr>\n",
       "      <th>3</th>\n",
       "      <td>Textile Museum of Canada</td>\n",
       "      <td>Art Museum</td>\n",
       "      <td>43.654396</td>\n",
       "      <td>-79.386500</td>\n",
       "    </tr>\n",
       "    <tr>\n",
       "      <th>4</th>\n",
       "      <td>Poke Guys</td>\n",
       "      <td>Poke Place</td>\n",
       "      <td>43.654895</td>\n",
       "      <td>-79.385052</td>\n",
       "    </tr>\n",
       "  </tbody>\n",
       "</table>\n",
       "</div>"
      ],
      "text/plain": [
       "                       name        categories        lat        lng\n",
       "0          Downtown Toronto      Neighborhood  43.653232 -79.385296\n",
       "1                   Japango  Sushi Restaurant  43.655268 -79.385165\n",
       "2               Cafe Plenty              Café  43.654571 -79.389450\n",
       "3  Textile Museum of Canada        Art Museum  43.654396 -79.386500\n",
       "4                 Poke Guys        Poke Place  43.654895 -79.385052"
      ]
     },
     "execution_count": 64,
     "metadata": {},
     "output_type": "execute_result"
    }
   ],
   "source": [
    "venues = results['response']['groups'][0]['items']\n",
    "    \n",
    "nearby_venues = json_normalize(venues) # flatten JSON\n",
    "\n",
    "# filter columns\n",
    "filtered_columns = ['venue.name', 'venue.categories', 'venue.location.lat', 'venue.location.lng']\n",
    "nearby_venues =nearby_venues.loc[:, filtered_columns]\n",
    "\n",
    "# filter the category for each row\n",
    "nearby_venues['venue.categories'] = nearby_venues.apply(get_category_type, axis=1)\n",
    "\n",
    "# clean columns\n",
    "nearby_venues.columns = [col.split(\".\")[-1] for col in nearby_venues.columns]\n",
    "\n",
    "nearby_venues.head()"
   ]
  },
  {
   "cell_type": "code",
   "execution_count": 65,
   "metadata": {
    "collapsed": false,
    "jupyter": {
     "outputs_hidden": false
    }
   },
   "outputs": [
    {
     "name": "stdout",
     "output_type": "stream",
     "text": [
      "79 venues were returned by Foursquare.\n"
     ]
    }
   ],
   "source": [
    "print('{} venues were returned by Foursquare.'.format(nearby_venues.shape[0]))"
   ]
  },
  {
   "cell_type": "code",
   "execution_count": 66,
   "metadata": {
    "collapsed": false,
    "jupyter": {
     "outputs_hidden": false
    }
   },
   "outputs": [
    {
     "data": {
      "text/html": [
       "<div style=\"width:100%;\"><div style=\"position:relative;width:100%;height:0;padding-bottom:60%;\"><iframe src=\"data:text/html;charset=utf-8;base64,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\" style=\"position:absolute;width:100%;height:100%;left:0;top:0;border:none !important;\" allowfullscreen webkitallowfullscreen mozallowfullscreen></iframe></div></div>"
      ],
      "text/plain": [
       "<folium.folium.Map at 0x7f66b25a20f0>"
      ]
     },
     "execution_count": 66,
     "metadata": {},
     "output_type": "execute_result"
    }
   ],
   "source": [
    "map_venues = folium.Map(location=[latitude, longitude], zoom_start=10)\n",
    "\n",
    "# add markers to map\n",
    "for lat, lng, name, categories in zip(nearby_venues['lat'], nearby_venues['lng'], nearby_venues['name'], nearby_venues['categories']):\n",
    "        label = '{}, {}'.format(name, categories)\n",
    "        label = folium.Popup(label, parse_html=True)\n",
    "        folium.CircleMarker(\n",
    "            [lat, lng],\n",
    "            radius=5,\n",
    "            popup=label,\n",
    "            color='blue',\n",
    "            fill=True,\n",
    "            fill_color='#3186cc',\n",
    "            fill_opacity=0.7,\n",
    "            parse_html=False).add_to(map_venues)  \n",
    "    \n",
    "map_venues"
   ]
  },
  {
   "cell_type": "markdown",
   "metadata": {},
   "source": [
    "# Findings thusfar-"
   ]
  },
  {
   "cell_type": "markdown",
   "metadata": {},
   "source": [
    "### Not much of note, though we do know now that the centralized location of the latitude and longitude for Toronto seem to show that the denser collection of neighborhoods is around the south-central ocean region, and that the rest of the neighborhoods seem to be rather evenly dispersed in the immediate area. \n",
    "#### Comparing this with the map of local venues, we can see that just north of the cluster of neighborhoods is a majorly dense clustering of venues. From their basic shape even on the map we can tell this is likely some sort of heavily developed downtown area, a great place to do further examinations dependent on criteria. "
   ]
  },
  {
   "cell_type": "code",
   "execution_count": null,
   "metadata": {
    "collapsed": true,
    "jupyter": {
     "outputs_hidden": true
    }
   },
   "outputs": [],
   "source": []
  }
 ],
 "metadata": {
  "kernelspec": {
   "display_name": "Python 3",
   "language": "python",
   "name": "python3"
  },
  "language_info": {
   "codemirror_mode": {
    "name": "ipython",
    "version": 3
   },
   "file_extension": ".py",
   "mimetype": "text/x-python",
   "name": "python",
   "nbconvert_exporter": "python",
   "pygments_lexer": "ipython3",
   "version": "3.6.7"
  },
  "widgets": {
   "state": {},
   "version": "1.1.2"
  }
 },
 "nbformat": 4,
 "nbformat_minor": 4
}
